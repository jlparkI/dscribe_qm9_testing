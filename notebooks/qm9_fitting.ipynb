{
 "cells": [
  {
   "cell_type": "markdown",
   "id": "5d494947",
   "metadata": {},
   "source": [
    "### QM9 testing for compressed SOAP features using an approximate GP\n",
    "\n",
    "Quick and dirty test using a random features approximated GP; we can obtain\n",
    "an MAE < 0.35 kcal/mol without too much effort. Alternative feature\n",
    "compression schemes may enable us to acheive better performance with\n",
    "an even smaller number of features (the current mu=1 nu=1 compression\n",
    "yields 1920 features per atom, which at up to 29 atoms per molecule yields\n",
    "a fairly large number of features per datapoint)."
   ]
  },
  {
   "cell_type": "code",
   "execution_count": 9,
   "id": "1fd7245c",
   "metadata": {},
   "outputs": [],
   "source": [
    "import os\n",
    "import numpy as np\n",
    "import matplotlib.pyplot as plt\n",
    "\n",
    "from xGPR.xGP_Regression import xGPRegression\n",
    "from xGPR.data_handling.dataset_builder import build_offline_sequence_dataset\n",
    "\n",
    "if \"qm9_data\" not in os.getcwd():\n",
    "    os.chdir(os.path.join(\"..\", \"qm9_data\", \"qm9_soap_features\"))"
   ]
  },
  {
   "cell_type": "code",
   "execution_count": 2,
   "id": "17d5d7f0",
   "metadata": {},
   "outputs": [],
   "source": [
    "def get_batched_multitask_files(target, dtype):\n",
    "    os.chdir(target)\n",
    "    xfoldedfiles, yfiles = [], []\n",
    "    xfoldedfiles = [os.path.abspath(f) for f in os.listdir() if f.endswith(\"xfolded.npy\")]\n",
    "    yfiles = [os.path.abspath(d) for d in os.listdir() if d.endswith(\"yvalues.npy\")]\n",
    "    xfoldedfiles.sort()\n",
    "    yfiles.sort()\n",
    "    os.chdir(\"..\")\n",
    "    return xfoldedfiles, yfiles"
   ]
  },
  {
   "cell_type": "code",
   "execution_count": 3,
   "id": "4f95e312",
   "metadata": {},
   "outputs": [],
   "source": [
    "train_x_folded, trainy = get_batched_multitask_files(\"train\", \"u298\")\n",
    "valid_x_folded, validy = get_batched_multitask_files(\"valid\", \"u298\")\n",
    "test_x_folded, testy = get_batched_multitask_files(\"test\", \"u298\")"
   ]
  },
  {
   "cell_type": "code",
   "execution_count": null,
   "id": "66d91ad6",
   "metadata": {},
   "outputs": [],
   "source": []
  },
  {
   "cell_type": "code",
   "execution_count": 4,
   "id": "9b7ac044",
   "metadata": {},
   "outputs": [],
   "source": [
    "#Using a Graph RBF kernel -- a squared exponential evaluated pairwise across all pairs of\n",
    "#atoms in any two mols. We can also use GraphPoly or GraphArcCosine (pairwise evals of\n",
    "#arc cosine or polynomial) with similar results.\n",
    "train_dset = build_offline_sequence_dataset(train_x_folded, trainy, skip_safety_checks = True)\n",
    "mod = xGPRegression(training_rffs = 512, fitting_rffs = 8192, device = \"gpu\",\n",
    "                   kernel_choice = \"GraphRBF\", verbose = True,\n",
    "                   kernel_specific_params = {\"polydegree\":2, \"order\":2, \"intercept\":True})\n",
    "\n",
    "\n",
    "#This function provides an initial \"quick and dirty\" hyperparameter tuning run to establish\n",
    "#an approximate location for a good lengthscale. We'll skip this for now and\n",
    "#use generic hparams instead.\n",
    "\n",
    "#_, _, nmll, scores = mod.tune_hyperparams_crude_bayes(train_dset)\n",
    "#print(nmll)"
   ]
  },
  {
   "cell_type": "code",
   "execution_count": null,
   "id": "742a66e5",
   "metadata": {},
   "outputs": [],
   "source": []
  },
  {
   "cell_type": "markdown",
   "id": "b0f45af3",
   "metadata": {},
   "source": [
    "We could tune hyperparameters as shown below but for now we'll just use generic hyperparameters\n",
    "for the Gaussian process."
   ]
  },
  {
   "cell_type": "code",
   "execution_count": 5,
   "id": "ba243e90",
   "metadata": {},
   "outputs": [],
   "source": [
    "#bounds = mod._run_pretuning_prep(train_dset, 123,\n",
    "#                  None, \"approximate\")\n",
    "#mod.training_rffs = 8192\n",
    "#sigma_vals_n = [0.0, 0.5, 1.0]\n",
    "#for sigma_val in sigma_vals_n:\n",
    "#    hparams = np.array([-6.5,1,sigma_val])\n",
    "#    nmll = mod.approximate_nmll(hparams, train_dset, max_rank = 1500,\n",
    "#                    nsamples = 25, random_seed = 123, niter = 1000,\n",
    "#                    tol = 1e-7, pretransform_dir = \"/ssd1/gpr_data/fitting\",\n",
    "#                    preconditioner_mode = \"srht_2\")\n",
    "#    nmll_vals.append(nmll)"
   ]
  },
  {
   "cell_type": "code",
   "execution_count": 6,
   "id": "bb7152f8",
   "metadata": {},
   "outputs": [],
   "source": [
    "#Generic hyperparameters\n",
    "hparams = np.array([-6.5, 1, 0.0])"
   ]
  },
  {
   "cell_type": "code",
   "execution_count": 7,
   "id": "66c230a0",
   "metadata": {},
   "outputs": [
    {
     "name": "stdout",
     "output_type": "stream",
     "text": [
      "Now pretransforming data.\n",
      "Pretransform done.\n",
      "Chunk 0 complete.\n",
      "Chunk 10 complete.\n",
      "Chunk 20 complete.\n",
      "Chunk 30 complete.\n",
      "Chunk 40 complete.\n",
      "Chunk 50 complete.\n",
      "Chunk 60 complete.\n",
      "Chunk 70 complete.\n",
      "Chunk 80 complete.\n",
      "Chunk 90 complete.\n",
      "Chunk 100 complete.\n",
      "Chunk 110 complete.\n",
      "Chunk 120 complete.\n",
      "Chunk 130 complete.\n",
      "Chunk 140 complete.\n",
      "Chunk 150 complete.\n",
      "Chunk 160 complete.\n",
      "Chunk 170 complete.\n",
      "Chunk 180 complete.\n",
      "Chunk 190 complete.\n",
      "Chunk 200 complete.\n",
      "Chunk 210 complete.\n",
      "Chunk 220 complete.\n",
      "Chunk 230 complete.\n",
      "Chunk 0 complete.\n",
      "Chunk 10 complete.\n",
      "Chunk 20 complete.\n",
      "Chunk 30 complete.\n",
      "Chunk 40 complete.\n",
      "Chunk 50 complete.\n",
      "Chunk 60 complete.\n",
      "Chunk 70 complete.\n",
      "Chunk 80 complete.\n",
      "Chunk 90 complete.\n",
      "Chunk 100 complete.\n",
      "Chunk 110 complete.\n",
      "Chunk 120 complete.\n",
      "Chunk 130 complete.\n",
      "Chunk 140 complete.\n",
      "Chunk 150 complete.\n",
      "Chunk 160 complete.\n",
      "Chunk 170 complete.\n",
      "Chunk 180 complete.\n",
      "Chunk 190 complete.\n",
      "Chunk 200 complete.\n",
      "Chunk 210 complete.\n",
      "Chunk 220 complete.\n",
      "Chunk 230 complete.\n",
      "starting fitting\n",
      "Iteration 0\n",
      "Iteration 5\n",
      "Iteration 10\n",
      "Iteration 15\n",
      "Iteration 20\n",
      "Iteration 25\n",
      "Iteration 30\n",
      "Iteration 35\n",
      "Iteration 40\n",
      "Iteration 45\n",
      "Iteration 50\n",
      "Iteration 55\n",
      "Iteration 60\n",
      "Iteration 65\n",
      "Iteration 70\n",
      "Fitting complete.\n"
     ]
    }
   ],
   "source": [
    "#The more random features (RFFs) we use, the better the model approximates an exact Gaussian\n",
    "#process, and the better performance will be, although there are usually sharply diminishing\n",
    "#returns. 16384 yields slightly better performance than 8192, and 32768 is a further small\n",
    "#improvement. For inference, of course, a smaller number of RFFs is better.\n",
    "\n",
    "mod.fitting_rffs = 16384\n",
    "\n",
    "\n",
    "#We'll pre-generate the random features and save them on disk. This is not fast, but\n",
    "#is faster when each graph has a large number of associated features,\n",
    "#as with SOAP, since loading the raw data is time consuming (each molecule has\n",
    "#a very large number of associated features -- up to 29 * 1920 = 55680) so\n",
    "#we would prefer to avoid loading any batch of raw data more than once.\n",
    "p_dset = mod.pretransform_data(train_dset, pretransform_dir = os.getcwd(), preset_hyperparams = hparams)\n",
    "\n",
    "print(\"Pretransform done.\")\n",
    "\n",
    "#A larger preconditioner rank speeds up fitting by reducing number of iterations, a smaller rank makes\n",
    "#preconditioner construction faster. 1024 is a compromise.\n",
    "preconditioner, ratio = mod.build_preconditioner(p_dset, max_rank = 1024, method=\"srht_2\", preset_hyperparams = hparams)\n",
    "mod.fit(p_dset, preconditioner = preconditioner, tol = 1e-7, max_iter = 1000,\n",
    "        suppress_var = True)\n",
    "p_dset.delete_dataset_files()"
   ]
  },
  {
   "cell_type": "code",
   "execution_count": 11,
   "id": "7bab0fb3",
   "metadata": {},
   "outputs": [
    {
     "name": "stdout",
     "output_type": "stream",
     "text": [
      "Mean absolute error is 0.3349143092155989 kcal/mol\n"
     ]
    },
    {
     "data": {
      "image/png": "[encoded data removed]",
      "text/plain": [
       "<Figure size 640x480 with 1 Axes>"
      ]
     },
     "metadata": {},
     "output_type": "display_data"
    }
   ],
   "source": [
    "preds = [mod.predict(np.load(xfile), get_var = False) for xfile in valid_x_folded + test_x_folded]\n",
    "gt = [np.load(yfile) for yfile in validy + testy]\n",
    "\n",
    "    \n",
    "preds = np.concatenate(preds)\n",
    "gt = np.concatenate(gt)\n",
    "plt.scatter(preds, gt, s=5, alpha=0.5)\n",
    "plt.xlabel(\"Predicted U298 (kcal/mol)\")\n",
    "plt.ylabel(\"Actual U298 (kcal/mol)\")\n",
    "plt.title(\"Predicted vs actual \")\n",
    "print(f\"Mean absolute error is {np.mean(np.abs(gt - preds))} kcal/mol\")"
   ]
  },
  {
   "cell_type": "code",
   "execution_count": null,
   "id": "a943d6a2",
   "metadata": {},
   "outputs": [],
   "source": []
  }
 ],
 "metadata": {
  "kernelspec": {
   "display_name": "Python 3 (ipykernel)",
   "language": "python",
   "name": "python3"
  },
  "language_info": {
   "codemirror_mode": {
    "name": "ipython",
    "version": 3
   },
   "file_extension": ".py",
   "mimetype": "text/x-python",
   "name": "python",
   "nbconvert_exporter": "python",
   "pygments_lexer": "ipython3",
   "version": "3.9.10"
  }
 },
 "nbformat": 4,
 "nbformat_minor": 5
}
