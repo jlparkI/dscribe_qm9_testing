{
 "cells": [
  {
   "cell_type": "markdown",
   "id": "5d494947",
   "metadata": {},
   "source": [
    "### QM9 testing for compressed SOAP features using an approximate GP\n",
    "\n",
    "Quick and dirty test using a random features approximated GP; we can obtain\n",
    "an MAE < 0.35 kcal/mol without too much effort. Alternative feature\n",
    "compression schemes may enable us to acheive better performance with\n",
    "an even smaller number of features (the current mu=1 nu=1 compression\n",
    "yields 1920 features per atom, which at up to 29 atoms per molecule yields\n",
    "a fairly large number of features per datapoint)."
   ]
  },
  {
   "cell_type": "code",
   "execution_count": 1,
   "id": "1fd7245c",
   "metadata": {},
   "outputs": [],
   "source": [
    "import os\n",
    "import numpy as np\n",
    "import matplotlib.pyplot as plt\n",
    "\n",
    "from xGPR.xGP_Regression import xGPRegression\n",
    "from xGPR.data_handling.dataset_builder import build_offline_sequence_dataset\n",
    "\n",
    "if \"qm9_data\" not in os.getcwd():\n",
    "    os.chdir(os.path.join(\"..\", \"qm9_data\", \"qm9_agnostic_features\"))"
   ]
  },
  {
   "cell_type": "code",
   "execution_count": 2,
   "id": "17d5d7f0",
   "metadata": {},
   "outputs": [],
   "source": [
    "def get_batched_multitask_files(target, dtype):\n",
    "    os.chdir(target)\n",
    "    xfoldedfiles, yfiles = [], []\n",
    "    xfoldedfiles = [os.path.abspath(f) for f in os.listdir() if f.endswith(\"xfolded.npy\")]\n",
    "    yfiles = [os.path.abspath(d) for d in os.listdir() if d.endswith(\"yvalues.npy\")]\n",
    "    xfoldedfiles.sort()\n",
    "    yfiles.sort()\n",
    "    os.chdir(\"..\")\n",
    "    return xfoldedfiles, yfiles"
   ]
  },
  {
   "cell_type": "code",
   "execution_count": 3,
   "id": "4f95e312",
   "metadata": {},
   "outputs": [],
   "source": [
    "train_x_folded, trainy = get_batched_multitask_files(\"train\", \"u298\")\n",
    "valid_x_folded, validy = get_batched_multitask_files(\"valid\", \"u298\")\n",
    "test_x_folded, testy = get_batched_multitask_files(\"test\", \"u298\")"
   ]
  },
  {
   "cell_type": "code",
   "execution_count": null,
   "id": "66d91ad6",
   "metadata": {},
   "outputs": [],
   "source": []
  },
  {
   "cell_type": "code",
   "execution_count": 4,
   "id": "9b7ac044",
   "metadata": {},
   "outputs": [
    {
     "name": "stdout",
     "output_type": "stream",
     "text": [
      "starting_tuning\n",
      "Grid point 0 acquired.\n",
      "Grid point 1 acquired.\n",
      "Grid point 2 acquired.\n",
      "Grid point 3 acquired.\n",
      "Grid point 4 acquired.\n",
      "Grid point 5 acquired.\n",
      "Grid point 6 acquired.\n",
      "Grid point 7 acquired.\n",
      "Grid point 8 acquired.\n",
      "Grid point 9 acquired.\n",
      "New hparams: [0.6852147]\n",
      "Additional acquisition 10.\n",
      "New hparams: [0.5452972]\n",
      "Additional acquisition 11.\n",
      "New hparams: [-0.0684114]\n",
      "Additional acquisition 12.\n",
      "New hparams: [1.1201818]\n",
      "Additional acquisition 13.\n",
      "New hparams: [-2.0555689]\n",
      "Additional acquisition 14.\n",
      "New hparams: [-0.9295606]\n",
      "Additional acquisition 15.\n",
      "New hparams: [2.0118921]\n",
      "Additional acquisition 16.\n",
      "New hparams: [0.2064017]\n",
      "Additional acquisition 17.\n",
      "New hparams: [-3.0289069]\n",
      "Additional acquisition 18.\n",
      "New hparams: [0.9243384]\n",
      "Additional acquisition 19.\n",
      "New hparams: [4.149718]\n",
      "Additional acquisition 20.\n",
      "New hparams: [3.1080434]\n",
      "Additional acquisition 21.\n",
      "New hparams: [-0.259745]\n",
      "Additional acquisition 22.\n",
      "New hparams: [-4.191255]\n",
      "Additional acquisition 23.\n",
      "New hparams: [0.4194954]\n",
      "Best score achieved: -284768.519\n",
      "Best hyperparams: [-4.0127918 -0.5225845  0.5116856]\n",
      "Tuning complete.\n"
     ]
    }
   ],
   "source": [
    "#Using a Graph RBF kernel -- a squared exponential evaluated pairwise across all pairs of\n",
    "#atoms in any two mols. We can also use GraphPoly or GraphArcCosine (pairwise evals of\n",
    "#arc cosine or polynomial) with similar results.\n",
    "train_dset = build_offline_sequence_dataset(train_x_folded, trainy, skip_safety_checks = True)\n",
    "mod = xGPRegression(training_rffs = 1024, fitting_rffs = 8192, device = \"gpu\",\n",
    "                   kernel_choice = \"GraphRBF\", verbose = True,\n",
    "                   kernel_specific_params = {\"polydegree\":2, \"order\":2, \"intercept\":True})\n",
    "\n",
    "\n",
    "#This function provides an initial \"quick and dirty\" hyperparameter tuning run to establish\n",
    "#an approximate location for a good lengthscale.\n",
    "\n",
    "_, _, nmll, scores = mod.tune_hyperparams_crude_bayes(train_dset)"
   ]
  },
  {
   "cell_type": "markdown",
   "id": "b0f45af3",
   "metadata": {},
   "source": [
    "We could further fine-tune hyperparameters as shown below, which will generally lead to\n",
    "improved performance, but for now we'll just use the (approximate)\n",
    "location of the best lengthscale from the crude tuning, setting the noise value to a much lower\n",
    "value since we know the data is (close to) noise free."
   ]
  },
  {
   "cell_type": "code",
   "execution_count": 14,
   "id": "ba243e90",
   "metadata": {},
   "outputs": [],
   "source": [
    "#bounds = mod._run_pretuning_prep(train_dset, 123,\n",
    "#                  None, \"approximate\")\n",
    "#mod.training_rffs = 8192\n",
    "#sigma_vals_n = [0.0, 0.5, 1.0]\n",
    "#for sigma_val in sigma_vals_n:\n",
    "#    hparams = np.array([-6.5,1,sigma_val])\n",
    "#    nmll = mod.approximate_nmll(hparams, train_dset, max_rank = 1500,\n",
    "#                    nsamples = 25, random_seed = 123, niter = 1000,\n",
    "#                    tol = 1e-7, pretransform_dir = \"/ssd1/gpr_data/fitting\",\n",
    "#                    preconditioner_mode = \"srht_2\")\n",
    "#    nmll_vals.append(nmll)"
   ]
  },
  {
   "cell_type": "code",
   "execution_count": 6,
   "id": "bb7152f8",
   "metadata": {},
   "outputs": [],
   "source": [
    "hparams = np.array([-6.0, 0, 0.5])"
   ]
  },
  {
   "cell_type": "code",
   "execution_count": 9,
   "id": "66c230a0",
   "metadata": {},
   "outputs": [
    {
     "name": "stdout",
     "output_type": "stream",
     "text": [
      "Now pretransforming data.\n",
      "Pretransform done.\n",
      "Chunk 0 complete.\n",
      "Chunk 10 complete.\n",
      "Chunk 20 complete.\n",
      "Chunk 30 complete.\n",
      "Chunk 40 complete.\n",
      "Chunk 50 complete.\n",
      "Chunk 60 complete.\n",
      "Chunk 70 complete.\n",
      "Chunk 80 complete.\n",
      "Chunk 90 complete.\n",
      "Chunk 100 complete.\n",
      "Chunk 110 complete.\n",
      "Chunk 120 complete.\n",
      "Chunk 130 complete.\n",
      "Chunk 140 complete.\n",
      "Chunk 150 complete.\n",
      "Chunk 160 complete.\n",
      "Chunk 170 complete.\n",
      "Chunk 180 complete.\n",
      "Chunk 190 complete.\n",
      "Chunk 200 complete.\n",
      "Chunk 210 complete.\n",
      "Chunk 220 complete.\n",
      "Chunk 230 complete.\n",
      "Chunk 0 complete.\n",
      "Chunk 10 complete.\n",
      "Chunk 20 complete.\n",
      "Chunk 30 complete.\n",
      "Chunk 40 complete.\n",
      "Chunk 50 complete.\n",
      "Chunk 60 complete.\n",
      "Chunk 70 complete.\n",
      "Chunk 80 complete.\n",
      "Chunk 90 complete.\n",
      "Chunk 100 complete.\n",
      "Chunk 110 complete.\n",
      "Chunk 120 complete.\n",
      "Chunk 130 complete.\n",
      "Chunk 140 complete.\n",
      "Chunk 150 complete.\n",
      "Chunk 160 complete.\n",
      "Chunk 170 complete.\n",
      "Chunk 180 complete.\n",
      "Chunk 190 complete.\n",
      "Chunk 200 complete.\n",
      "Chunk 210 complete.\n",
      "Chunk 220 complete.\n",
      "Chunk 230 complete.\n",
      "starting fitting\n",
      "Iteration 0\n",
      "Iteration 5\n",
      "Iteration 10\n",
      "Iteration 15\n",
      "Fitting complete.\n"
     ]
    }
   ],
   "source": [
    "#The more random features (RFFs) we use, the better the model approximates an exact Gaussian\n",
    "#process, and the better performance will be, although there are usually sharply diminishing\n",
    "#returns. 16384 yields slightly better performance than 8192, and 32768 is a further small\n",
    "#improvement. For inference, of course, a smaller number of RFFs is better.\n",
    "\n",
    "mod.fitting_rffs = 16384\n",
    "\n",
    "\n",
    "#We'll pre-generate the random features and save them on disk. This is not fast, but\n",
    "#is faster when each graph has a large number of associated features,\n",
    "#as with SOAP, since loading the raw data is time consuming (each molecule has\n",
    "#a very large number of associated features -- up to 29 * 1920 = 55680) so\n",
    "#we would prefer to avoid loading any batch of raw data more than once.\n",
    "p_dset = mod.pretransform_data(train_dset, pretransform_dir = os.getcwd(), preset_hyperparams = hparams)\n",
    "\n",
    "print(\"Pretransform done.\")\n",
    "\n",
    "#A larger preconditioner rank speeds up fitting by reducing number of iterations, a smaller rank makes\n",
    "#preconditioner construction faster. 1024 is a compromise.\n",
    "preconditioner, ratio = mod.build_preconditioner(p_dset, max_rank = 1024, method=\"srht_2\", preset_hyperparams = hparams)\n",
    "mod.fit(p_dset, preconditioner = preconditioner, tol = 1e-7, max_iter = 1000,\n",
    "        suppress_var = True)\n",
    "p_dset.delete_dataset_files()"
   ]
  },
  {
   "cell_type": "code",
   "execution_count": 10,
   "id": "7bab0fb3",
   "metadata": {},
   "outputs": [
    {
     "name": "stdout",
     "output_type": "stream",
     "text": [
      "Mean absolute error is 0.3922605007324626 kcal/mol\n"
     ]
    },
    {
     "data": {
      "image/png": "[encoded data removed]",
      "text/plain": [
       "<Figure size 640x480 with 1 Axes>"
      ]
     },
     "metadata": {},
     "output_type": "display_data"
    }
   ],
   "source": [
    "preds = [mod.predict(np.load(xfile), get_var = False) for xfile in valid_x_folded + test_x_folded]\n",
    "gt = [np.load(yfile) for yfile in validy + testy]\n",
    "\n",
    "    \n",
    "preds = np.concatenate(preds)\n",
    "gt = np.concatenate(gt)\n",
    "plt.scatter(preds, gt, s=5, alpha=0.5)\n",
    "plt.xlabel(\"Predicted U298 (kcal/mol)\")\n",
    "plt.ylabel(\"Actual U298 (kcal/mol)\")\n",
    "plt.title(\"Predicted vs actual \")\n",
    "print(f\"Mean absolute error is {np.mean(np.abs(gt - preds))} kcal/mol\")"
   ]
  },
  {
   "cell_type": "code",
   "execution_count": null,
   "id": "a943d6a2",
   "metadata": {},
   "outputs": [],
   "source": []
  }
 ],
 "metadata": {
  "kernelspec": {
   "display_name": "Python 3 (ipykernel)",
   "language": "python",
   "name": "python3"
  },
  "language_info": {
   "codemirror_mode": {
    "name": "ipython",
    "version": 3
   },
   "file_extension": ".py",
   "mimetype": "text/x-python",
   "name": "python",
   "nbconvert_exporter": "python",
   "pygments_lexer": "ipython3",
   "version": "3.9.10"
  }
 },
 "nbformat": 4,
 "nbformat_minor": 5
}
